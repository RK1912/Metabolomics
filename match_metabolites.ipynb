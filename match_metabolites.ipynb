{
 "cells": [
  {
   "cell_type": "code",
   "execution_count": 3,
   "metadata": {},
   "outputs": [
    {
     "name": "stdout",
     "output_type": "stream",
     "text": [
      "{}\n"
     ]
    }
   ],
   "source": [
    "import pyqms \n",
    "import pymzml\n",
    "\n",
    "pyqms_params = {\"REL_MZ_RANGE\": 20e-6, \"MINIMUM_NUMBER_OF_MATCHED_ISOTOPOLOGUES\" : 1, \"LOWER_MZ_LIMIT\" : 50,\n",
    "                \"REQUIRED_PERCENTILE_PEAK_OVERLAP\": 0.25, \"M_SCORE_THRESHOLD\" : 0.1}\n",
    "\n",
    "molecules = [\"+C2H5NO2\", \"+C3H7NO2\", \"+C5H14NO\", \"+C6H13NO2\", \"+C10H17N3O6S\", \"+C9H11NO3\", \"+C9H14N4O3\", \"+C5H10N2O3\", \"+C4H8N2O3\", \"+C3H7NO3\"]\n",
    "\n",
    "metabolites = pyqms.IsotopologueLibrary(molecules, charges=[1], params = pyqms_params, verbose=False)\n",
    "\n",
    "path = \"Benz1.mzML\"\n",
    "\n",
    "mzml = pymzml.run.Reader(path)\n",
    "    \n",
    "r = None\n",
    "for j in mzml:\n",
    "    r = metabolites.match_all(mz_i_list=j.peaks(\"centroided\"), results=r)     \n",
    "print(r)"
   ]
  },
  {
   "cell_type": "code",
   "execution_count": 4,
   "metadata": {},
   "outputs": [
    {
     "name": "stdout",
     "output_type": "stream",
     "text": [
      "0.6.2\n",
      "2.4.7\n"
     ]
    }
   ],
   "source": [
    "print(pyqms.__version__)\n",
    "print(pymzml.__version__)"
   ]
  },
  {
   "cell_type": "code",
   "execution_count": null,
   "metadata": {},
   "outputs": [],
   "source": []
  }
 ],
 "metadata": {
  "kernelspec": {
   "display_name": "Python 3",
   "language": "python",
   "name": "python3"
  },
  "language_info": {
   "codemirror_mode": {
    "name": "ipython",
    "version": 3
   },
   "file_extension": ".py",
   "mimetype": "text/x-python",
   "name": "python",
   "nbconvert_exporter": "python",
   "pygments_lexer": "ipython3",
   "version": "3.8.5"
  }
 },
 "nbformat": 4,
 "nbformat_minor": 4
}
